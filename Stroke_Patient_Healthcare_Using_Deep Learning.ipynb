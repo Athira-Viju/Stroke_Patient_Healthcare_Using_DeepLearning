{
 "cells": [
  {
   "cell_type": "markdown",
   "id": "e2c69cbe-91a8-4b82-bf28-159ba1f287b3",
   "metadata": {},
   "source": [
    "<h1><u><span style=\"color:#FF6666;\">Stroke Patient Healthcare Using Deep Learning</span></u></h1>"
   ]
  },
  {
   "cell_type": "markdown",
   "id": "ead2ec6d-cf81-4ab1-8d13-6a00a551cc68",
   "metadata": {},
   "source": [
    "The main objective of this project is to examine a healthcare dataset regarding the prediction of **strokes**. The dataset consists of patient details including demographic information, medical background, and lifestyle elements. Its goal is to forecast the probability of experiencing a stroke using different characteristics."
   ]
  },
  {
   "cell_type": "markdown",
   "id": "102554b1-89fb-4452-8f17-68fe893d4505",
   "metadata": {},
   "source": [
    "<h4><u>Dataset:</u></h4>"
   ]
  },
  {
   "cell_type": "markdown",
   "id": "b70cd2e5-9fcd-476b-b0e2-39adf99669a4",
   "metadata": {},
   "source": [
    "- **Gender and Age**: Basic demographic information.\n",
    "- **Hypertension and Heart Disease**: Medical history related to stroke risk.\n",
    "- **Ever Married**: Marital status, which might influence health outcomes.\n",
    "- **Work Type and Residence Type**: Social factors that could affect health.\n",
    "- **Avg Glucose Level and BMI**: Indicators of health related to metabolic conditions.\n",
    "- **Smoking Status**: Lifestyle factor contributing to stroke risk.\n",
    "- **Stroke**: The target variable indicating whether a stroke has occurred (1) or not (0)."
   ]
  },
  {
   "cell_type": "markdown",
   "id": "5fe19c06-7bd9-41d5-b269-69cb3ed43b06",
   "metadata": {},
   "source": [
    "**Dataset Link**: [Click here to access the dataset](https://drive.google.com/file/d/1XyhVIZaKYZczlM2alun_fofilqTBq_9c/view?usp=drive_link)\n"
   ]
  },
  {
   "cell_type": "markdown",
   "id": "37faf20d-b35a-46b6-b7f8-182f0c5ffb6c",
   "metadata": {},
   "source": [
    "># **(1) Defining Problem Statement and Analyzing Basic Metrics**\n",
    "***"
   ]
  },
  {
   "cell_type": "markdown",
   "id": "f4465f90-b46e-4e54-a408-1b93d6f0e1bb",
   "metadata": {},
   "source": [
    "The objective of this project is to analyze a healthcare dataset related to **stroke** patients, focusing on identifying key risk factors that contribute to stroke occurrences. This includes analyzing metrics such as age, hypertension, heart disease, BMI, glucose levels, and lifestyle factors like smoking habits. By examining these variables, we aim to uncover patterns that can aid in early diagnosis and stroke prevention. The analysis will provide insights into the prevalence of strokes across different demographics and conditions, helping to better understand the contributing factors."
   ]
  },
  {
   "cell_type": "markdown",
   "id": "5b3c9a24-0f42-4b96-8623-a6180b925d8c",
   "metadata": {},
   "source": [
    "# **(2) Import libraries and Load the dataset**\n",
    "***"
   ]
  },
  {
   "cell_type": "code",
   "execution_count": 14,
   "id": "9c2797e8-9b4f-4f74-99e1-cc9018dd3d8a",
   "metadata": {},
   "outputs": [],
   "source": [
    "import numpy as np  # Importing NumPy \n",
    "import pandas as pd  # Importing Pandas \n"
   ]
  },
  {
   "cell_type": "code",
   "execution_count": 16,
   "id": "3e60d12c-62db-4d75-bb0e-fa97f651a960",
   "metadata": {},
   "outputs": [],
   "source": [
    "# Load .csv dataset into a pandas dataFrame\n",
    "df=pd.read_csv(\"https://drive.google.com/uc?export=download&id=1XyhVIZaKYZczlM2alun_fofilqTBq_9c\")"
   ]
  },
  {
   "cell_type": "code",
   "execution_count": 18,
   "id": "7855b63c-9453-461c-9894-20b389b05a8c",
   "metadata": {},
   "outputs": [
    {
     "data": {
      "text/html": [
       "<div>\n",
       "<style scoped>\n",
       "    .dataframe tbody tr th:only-of-type {\n",
       "        vertical-align: middle;\n",
       "    }\n",
       "\n",
       "    .dataframe tbody tr th {\n",
       "        vertical-align: top;\n",
       "    }\n",
       "\n",
       "    .dataframe thead th {\n",
       "        text-align: right;\n",
       "    }\n",
       "</style>\n",
       "<table border=\"1\" class=\"dataframe\">\n",
       "  <thead>\n",
       "    <tr style=\"text-align: right;\">\n",
       "      <th></th>\n",
       "      <th>id</th>\n",
       "      <th>gender</th>\n",
       "      <th>age</th>\n",
       "      <th>hypertension</th>\n",
       "      <th>heart_disease</th>\n",
       "      <th>ever_married</th>\n",
       "      <th>work_type</th>\n",
       "      <th>Residence_type</th>\n",
       "      <th>avg_glucose_level</th>\n",
       "      <th>bmi</th>\n",
       "      <th>smoking_status</th>\n",
       "      <th>stroke</th>\n",
       "    </tr>\n",
       "  </thead>\n",
       "  <tbody>\n",
       "    <tr>\n",
       "      <th>0</th>\n",
       "      <td>9046</td>\n",
       "      <td>Male</td>\n",
       "      <td>67.0</td>\n",
       "      <td>0</td>\n",
       "      <td>1</td>\n",
       "      <td>Yes</td>\n",
       "      <td>Private</td>\n",
       "      <td>Urban</td>\n",
       "      <td>228.69</td>\n",
       "      <td>36.6</td>\n",
       "      <td>formerly smoked</td>\n",
       "      <td>1</td>\n",
       "    </tr>\n",
       "    <tr>\n",
       "      <th>1</th>\n",
       "      <td>51676</td>\n",
       "      <td>Female</td>\n",
       "      <td>61.0</td>\n",
       "      <td>0</td>\n",
       "      <td>0</td>\n",
       "      <td>Yes</td>\n",
       "      <td>Self-employed</td>\n",
       "      <td>Rural</td>\n",
       "      <td>202.21</td>\n",
       "      <td>NaN</td>\n",
       "      <td>never smoked</td>\n",
       "      <td>1</td>\n",
       "    </tr>\n",
       "    <tr>\n",
       "      <th>2</th>\n",
       "      <td>31112</td>\n",
       "      <td>Male</td>\n",
       "      <td>80.0</td>\n",
       "      <td>0</td>\n",
       "      <td>1</td>\n",
       "      <td>Yes</td>\n",
       "      <td>Private</td>\n",
       "      <td>Rural</td>\n",
       "      <td>105.92</td>\n",
       "      <td>32.5</td>\n",
       "      <td>never smoked</td>\n",
       "      <td>1</td>\n",
       "    </tr>\n",
       "    <tr>\n",
       "      <th>3</th>\n",
       "      <td>60182</td>\n",
       "      <td>Female</td>\n",
       "      <td>49.0</td>\n",
       "      <td>0</td>\n",
       "      <td>0</td>\n",
       "      <td>Yes</td>\n",
       "      <td>Private</td>\n",
       "      <td>Urban</td>\n",
       "      <td>171.23</td>\n",
       "      <td>34.4</td>\n",
       "      <td>smokes</td>\n",
       "      <td>1</td>\n",
       "    </tr>\n",
       "    <tr>\n",
       "      <th>4</th>\n",
       "      <td>1665</td>\n",
       "      <td>Female</td>\n",
       "      <td>79.0</td>\n",
       "      <td>1</td>\n",
       "      <td>0</td>\n",
       "      <td>Yes</td>\n",
       "      <td>Self-employed</td>\n",
       "      <td>Rural</td>\n",
       "      <td>174.12</td>\n",
       "      <td>24.0</td>\n",
       "      <td>never smoked</td>\n",
       "      <td>1</td>\n",
       "    </tr>\n",
       "  </tbody>\n",
       "</table>\n",
       "</div>"
      ],
      "text/plain": [
       "      id  gender   age  hypertension  heart_disease ever_married  \\\n",
       "0   9046    Male  67.0             0              1          Yes   \n",
       "1  51676  Female  61.0             0              0          Yes   \n",
       "2  31112    Male  80.0             0              1          Yes   \n",
       "3  60182  Female  49.0             0              0          Yes   \n",
       "4   1665  Female  79.0             1              0          Yes   \n",
       "\n",
       "       work_type Residence_type  avg_glucose_level   bmi   smoking_status  \\\n",
       "0        Private          Urban             228.69  36.6  formerly smoked   \n",
       "1  Self-employed          Rural             202.21   NaN     never smoked   \n",
       "2        Private          Rural             105.92  32.5     never smoked   \n",
       "3        Private          Urban             171.23  34.4           smokes   \n",
       "4  Self-employed          Rural             174.12  24.0     never smoked   \n",
       "\n",
       "   stroke  \n",
       "0       1  \n",
       "1       1  \n",
       "2       1  \n",
       "3       1  \n",
       "4       1  "
      ]
     },
     "execution_count": 18,
     "metadata": {},
     "output_type": "execute_result"
    }
   ],
   "source": [
    "# shows the top 5 records of the dataset\n",
    "df.head()"
   ]
  },
  {
   "cell_type": "markdown",
   "id": "59dd0aa1-b681-4ac5-9cf5-30b660176f00",
   "metadata": {},
   "source": [
    "# **(3) Data Exploration and Pre-processing**\n",
    "***"
   ]
  },
  {
   "cell_type": "markdown",
   "id": "f45b1f78-889c-42c7-ae8c-fb12a3bbddd3",
   "metadata": {},
   "source": [
    "### **Check basic metrics and data types**\n",
    "\n",
    "Comprehending the format of the dataset, such as the quantity of rows and columns, and the data types of every attribute. Exploring data is an essential step."
   ]
  },
  {
   "cell_type": "code",
   "execution_count": 24,
   "id": "a8ae8d75-362b-4963-99c9-e70cb87635f3",
   "metadata": {},
   "outputs": [
    {
     "data": {
      "text/plain": [
       "(5110, 12)"
      ]
     },
     "execution_count": 24,
     "metadata": {},
     "output_type": "execute_result"
    }
   ],
   "source": [
    "df.shape  # Returns a tuple representing the number of rows and columns in the DataFrame"
   ]
  },
  {
   "cell_type": "code",
   "execution_count": 26,
   "id": "0859e596-8d39-43ea-92ce-be2bd85f641d",
   "metadata": {},
   "outputs": [
    {
     "name": "stdout",
     "output_type": "stream",
     "text": [
      "<class 'pandas.core.frame.DataFrame'>\n",
      "RangeIndex: 5110 entries, 0 to 5109\n",
      "Data columns (total 12 columns):\n",
      " #   Column             Non-Null Count  Dtype  \n",
      "---  ------             --------------  -----  \n",
      " 0   id                 5110 non-null   int64  \n",
      " 1   gender             5110 non-null   object \n",
      " 2   age                5110 non-null   float64\n",
      " 3   hypertension       5110 non-null   int64  \n",
      " 4   heart_disease      5110 non-null   int64  \n",
      " 5   ever_married       5110 non-null   object \n",
      " 6   work_type          5110 non-null   object \n",
      " 7   Residence_type     5110 non-null   object \n",
      " 8   avg_glucose_level  5110 non-null   float64\n",
      " 9   bmi                4909 non-null   float64\n",
      " 10  smoking_status     5110 non-null   object \n",
      " 11  stroke             5110 non-null   int64  \n",
      "dtypes: float64(3), int64(4), object(5)\n",
      "memory usage: 479.2+ KB\n"
     ]
    }
   ],
   "source": [
    "df.info()  # Provides a summary of the DataFrame, including data types and non-null counts"
   ]
  },
  {
   "cell_type": "markdown",
   "id": "a83f21e2-1cc2-4a09-9b33-36c11416deed",
   "metadata": {},
   "source": [
    "<h5 style=\"color: blue;\">Observations:</h5>\n",
    "\n",
    "\n",
    "- **Dataset Size**: 5,110 entries and 12 columns.\n",
    "- **Data Types**:\n",
    "  - 4 integer columns\n",
    "  - 3 float columns\n",
    "  - 5 object columns\n",
    "- **Missing Values**: The **BMI** column has 101 missing values; all other columns are complete with no missing data.\n",
    "- **Attributes**:\n",
    "  - Demographic information: **gender**, **age**, **ever_married**, **work_type**, **Residence_type**\n",
    "  - Health-related factors: **hypertension**, **heart_disease**, **avg_glucose_level**, **bmi**, **smoking_status**, **stroke**\n",
    "- **Analysis Potential**: The dataset is suitable for exploring relationships between demographic factors and stroke incidence.\n"
   ]
  },
  {
   "cell_type": "code",
   "execution_count": 31,
   "id": "6498a8e0-32d9-464f-8673-d89511c872e4",
   "metadata": {},
   "outputs": [
    {
     "data": {
      "text/html": [
       "<div>\n",
       "<style scoped>\n",
       "    .dataframe tbody tr th:only-of-type {\n",
       "        vertical-align: middle;\n",
       "    }\n",
       "\n",
       "    .dataframe tbody tr th {\n",
       "        vertical-align: top;\n",
       "    }\n",
       "\n",
       "    .dataframe thead th {\n",
       "        text-align: right;\n",
       "    }\n",
       "</style>\n",
       "<table border=\"1\" class=\"dataframe\">\n",
       "  <thead>\n",
       "    <tr style=\"text-align: right;\">\n",
       "      <th></th>\n",
       "      <th>id</th>\n",
       "      <th>age</th>\n",
       "      <th>hypertension</th>\n",
       "      <th>heart_disease</th>\n",
       "      <th>avg_glucose_level</th>\n",
       "      <th>bmi</th>\n",
       "      <th>stroke</th>\n",
       "    </tr>\n",
       "  </thead>\n",
       "  <tbody>\n",
       "    <tr>\n",
       "      <th>count</th>\n",
       "      <td>5110.000000</td>\n",
       "      <td>5110.000000</td>\n",
       "      <td>5110.000000</td>\n",
       "      <td>5110.000000</td>\n",
       "      <td>5110.000000</td>\n",
       "      <td>4909.000000</td>\n",
       "      <td>5110.000000</td>\n",
       "    </tr>\n",
       "    <tr>\n",
       "      <th>mean</th>\n",
       "      <td>36517.829354</td>\n",
       "      <td>43.226614</td>\n",
       "      <td>0.097456</td>\n",
       "      <td>0.054012</td>\n",
       "      <td>106.147677</td>\n",
       "      <td>28.893237</td>\n",
       "      <td>0.048728</td>\n",
       "    </tr>\n",
       "    <tr>\n",
       "      <th>std</th>\n",
       "      <td>21161.721625</td>\n",
       "      <td>22.612647</td>\n",
       "      <td>0.296607</td>\n",
       "      <td>0.226063</td>\n",
       "      <td>45.283560</td>\n",
       "      <td>7.854067</td>\n",
       "      <td>0.215320</td>\n",
       "    </tr>\n",
       "    <tr>\n",
       "      <th>min</th>\n",
       "      <td>67.000000</td>\n",
       "      <td>0.080000</td>\n",
       "      <td>0.000000</td>\n",
       "      <td>0.000000</td>\n",
       "      <td>55.120000</td>\n",
       "      <td>10.300000</td>\n",
       "      <td>0.000000</td>\n",
       "    </tr>\n",
       "    <tr>\n",
       "      <th>25%</th>\n",
       "      <td>17741.250000</td>\n",
       "      <td>25.000000</td>\n",
       "      <td>0.000000</td>\n",
       "      <td>0.000000</td>\n",
       "      <td>77.245000</td>\n",
       "      <td>23.500000</td>\n",
       "      <td>0.000000</td>\n",
       "    </tr>\n",
       "    <tr>\n",
       "      <th>50%</th>\n",
       "      <td>36932.000000</td>\n",
       "      <td>45.000000</td>\n",
       "      <td>0.000000</td>\n",
       "      <td>0.000000</td>\n",
       "      <td>91.885000</td>\n",
       "      <td>28.100000</td>\n",
       "      <td>0.000000</td>\n",
       "    </tr>\n",
       "    <tr>\n",
       "      <th>75%</th>\n",
       "      <td>54682.000000</td>\n",
       "      <td>61.000000</td>\n",
       "      <td>0.000000</td>\n",
       "      <td>0.000000</td>\n",
       "      <td>114.090000</td>\n",
       "      <td>33.100000</td>\n",
       "      <td>0.000000</td>\n",
       "    </tr>\n",
       "    <tr>\n",
       "      <th>max</th>\n",
       "      <td>72940.000000</td>\n",
       "      <td>82.000000</td>\n",
       "      <td>1.000000</td>\n",
       "      <td>1.000000</td>\n",
       "      <td>271.740000</td>\n",
       "      <td>97.600000</td>\n",
       "      <td>1.000000</td>\n",
       "    </tr>\n",
       "  </tbody>\n",
       "</table>\n",
       "</div>"
      ],
      "text/plain": [
       "                 id          age  hypertension  heart_disease  \\\n",
       "count   5110.000000  5110.000000   5110.000000    5110.000000   \n",
       "mean   36517.829354    43.226614      0.097456       0.054012   \n",
       "std    21161.721625    22.612647      0.296607       0.226063   \n",
       "min       67.000000     0.080000      0.000000       0.000000   \n",
       "25%    17741.250000    25.000000      0.000000       0.000000   \n",
       "50%    36932.000000    45.000000      0.000000       0.000000   \n",
       "75%    54682.000000    61.000000      0.000000       0.000000   \n",
       "max    72940.000000    82.000000      1.000000       1.000000   \n",
       "\n",
       "       avg_glucose_level          bmi       stroke  \n",
       "count        5110.000000  4909.000000  5110.000000  \n",
       "mean          106.147677    28.893237     0.048728  \n",
       "std            45.283560     7.854067     0.215320  \n",
       "min            55.120000    10.300000     0.000000  \n",
       "25%            77.245000    23.500000     0.000000  \n",
       "50%            91.885000    28.100000     0.000000  \n",
       "75%           114.090000    33.100000     0.000000  \n",
       "max           271.740000    97.600000     1.000000  "
      ]
     },
     "execution_count": 31,
     "metadata": {},
     "output_type": "execute_result"
    }
   ],
   "source": [
    " #Describing the statistical summary of numerical type data\n",
    "df.describe()"
   ]
  },
  {
   "cell_type": "markdown",
   "id": "eca74bcc-f07a-4c18-8bfa-41c437b03a0d",
   "metadata": {},
   "source": [
    "<h5 style=\"color: blue;\">Observations:</h5>\r\n",
    "\n",
    "-  **Age Distribution**: The average age of participants is approximately **43.23 years**, with a wide range from **0.08** to **82 years**, indicating a diverse age group.\n",
    "  \n",
    "- **Hypertension and Heart Disease**: About **9.75%** of participants have hypertension, and approximately **5.4%** have a history of heart disease, reflecting relatively low prevalence rates.\n",
    "\n",
    "- **Average Glucose Level**: The mean average glucose level is **106.15 mg/dL**, with a maximum value of **271.74 mg/dL**, suggesting variability in glucose levels among participants.\n",
    "\n",
    "- **Body Mass Index (BMI)**: The mean BMI is **28.89 kg/m²**, indicating that many participants may fall into the overweight category; the BMI column has **201 missing values**.\n",
    "\n",
    "- **Stroke Incidence**: Only about **4.87%** of participants have experienced a stroke, suggesting that stroke occurrences are relatively infrequent in this dataset.\n",
    "\n"
   ]
  },
  {
   "cell_type": "code",
   "execution_count": 41,
   "id": "feca4e0d-a51b-43e8-adb8-65fb4e3aded4",
   "metadata": {},
   "outputs": [
    {
     "data": {
      "text/plain": [
       "array(['formerly smoked', 'never smoked', 'smokes', 'Unknown'],\n",
       "      dtype=object)"
      ]
     },
     "execution_count": 41,
     "metadata": {},
     "output_type": "execute_result"
    }
   ],
   "source": [
    "df.smoking_status.unique()  # Retrieve the unique values in the 'smoking_status' column to analyze different smoking behaviors in the dataset."
   ]
  },
  {
   "cell_type": "markdown",
   "id": "607f0a5a-4969-473e-9c31-935af3baabd2",
   "metadata": {},
   "source": [
    "### **Statistical Summary of categorical type data**"
   ]
  },
  {
   "cell_type": "code",
   "execution_count": 44,
   "id": "93b46c74-bceb-4db3-b878-8777571de283",
   "metadata": {},
   "outputs": [
    {
     "data": {
      "text/html": [
       "<div>\n",
       "<style scoped>\n",
       "    .dataframe tbody tr th:only-of-type {\n",
       "        vertical-align: middle;\n",
       "    }\n",
       "\n",
       "    .dataframe tbody tr th {\n",
       "        vertical-align: top;\n",
       "    }\n",
       "\n",
       "    .dataframe thead th {\n",
       "        text-align: right;\n",
       "    }\n",
       "</style>\n",
       "<table border=\"1\" class=\"dataframe\">\n",
       "  <thead>\n",
       "    <tr style=\"text-align: right;\">\n",
       "      <th></th>\n",
       "      <th>gender</th>\n",
       "      <th>ever_married</th>\n",
       "      <th>work_type</th>\n",
       "      <th>Residence_type</th>\n",
       "      <th>smoking_status</th>\n",
       "    </tr>\n",
       "  </thead>\n",
       "  <tbody>\n",
       "    <tr>\n",
       "      <th>count</th>\n",
       "      <td>5110</td>\n",
       "      <td>5110</td>\n",
       "      <td>5110</td>\n",
       "      <td>5110</td>\n",
       "      <td>5110</td>\n",
       "    </tr>\n",
       "    <tr>\n",
       "      <th>unique</th>\n",
       "      <td>3</td>\n",
       "      <td>2</td>\n",
       "      <td>5</td>\n",
       "      <td>2</td>\n",
       "      <td>4</td>\n",
       "    </tr>\n",
       "    <tr>\n",
       "      <th>top</th>\n",
       "      <td>Female</td>\n",
       "      <td>Yes</td>\n",
       "      <td>Private</td>\n",
       "      <td>Urban</td>\n",
       "      <td>never smoked</td>\n",
       "    </tr>\n",
       "    <tr>\n",
       "      <th>freq</th>\n",
       "      <td>2994</td>\n",
       "      <td>3353</td>\n",
       "      <td>2925</td>\n",
       "      <td>2596</td>\n",
       "      <td>1892</td>\n",
       "    </tr>\n",
       "  </tbody>\n",
       "</table>\n",
       "</div>"
      ],
      "text/plain": [
       "        gender ever_married work_type Residence_type smoking_status\n",
       "count     5110         5110      5110           5110           5110\n",
       "unique       3            2         5              2              4\n",
       "top     Female          Yes   Private          Urban   never smoked\n",
       "freq      2994         3353      2925           2596           1892"
      ]
     },
     "execution_count": 44,
     "metadata": {},
     "output_type": "execute_result"
    }
   ],
   "source": [
    "# Statistical summary of categorical type data\n",
    "df.describe(include = object)"
   ]
  },
  {
   "cell_type": "markdown",
   "id": "ba1a750e-4452-4e4a-9b0a-4b5e775ec547",
   "metadata": {},
   "source": [
    "<h5 style=\"color: blue;\">Observations:</h5>\r\n",
    "\n",
    "- **Gender**: There are **3 unique categories** with **Female** being the most frequent (2,994 occurrences), indicating a higher representation of females in the dataset.\n",
    "\n",
    "- **Marital Status**: The majority of participants are **ever married** (3,353 occurrences), suggesting that most individuals in the dataset have been married at some point.\n",
    "\n",
    "- **Work Type**: There are **5 unique work types**, with **Private** employment being the most common (2,925 occurrences), indicating that many participants work in the private sector.\n",
    "\n",
    "- **Residence Type**: The dataset includes **2 types** of residence, with **Urban** being more prevalent (2,596 occurrences), highlighting a tendency for participants to live in urban areas.\n",
    "\n",
    "- **Smoking Status**: There are **4 unique smoking status categories**, with **never smoked** being the most common (1,892 occurrences), indicating a relatively low prevalence of smoking among participants."
   ]
  },
  {
   "cell_type": "markdown",
   "id": "23828c65-7931-49cc-8bd6-1c5ecde9d4f0",
   "metadata": {},
   "source": [
    "<h3 style=\"text-decoration: underline;\">Checking null values</h3>\n",
    "\r",
    "\r\n",
    "\n",
    "This step serves as both **data cleaning** and **data preprocessing**. Identifying and managing missing values is an essential part of data cleaning, as it addresses the issue of incomplete data. Depending on the severity of the missing data, you may need to choose a method for handling it, such as imputing values or removing the affected rows or columns. \n",
    "\n",
    "Additionally, this step is crucial for data preprocessing because the presence of missing values can affect the reliability of subsequent analyses. Addressing these gaps ensures that the data is in an appropriate format for effective analysis."
   ]
  },
  {
   "cell_type": "code",
   "execution_count": 48,
   "id": "3a68b20b-f98a-46a5-b0df-e9d4ee000b0f",
   "metadata": {},
   "outputs": [
    {
     "data": {
      "text/plain": [
       "id                     0\n",
       "gender                 0\n",
       "age                    0\n",
       "hypertension           0\n",
       "heart_disease          0\n",
       "ever_married           0\n",
       "work_type              0\n",
       "Residence_type         0\n",
       "avg_glucose_level      0\n",
       "bmi                  201\n",
       "smoking_status         0\n",
       "stroke                 0\n",
       "dtype: int64"
      ]
     },
     "execution_count": 48,
     "metadata": {},
     "output_type": "execute_result"
    }
   ],
   "source": [
    "# Display the count of missing values for each column\n",
    "df.isnull().sum()"
   ]
  },
  {
   "cell_type": "code",
   "execution_count": 50,
   "id": "8fc08f78-4736-4ed2-ae51-a5cfb4907a6c",
   "metadata": {},
   "outputs": [
    {
     "name": "stdout",
     "output_type": "stream",
     "text": [
      "Missing Values Percentage:\n",
      "\n",
      "id                   0.00\n",
      "gender               0.00\n",
      "age                  0.00\n",
      "hypertension         0.00\n",
      "heart_disease        0.00\n",
      "ever_married         0.00\n",
      "work_type            0.00\n",
      "Residence_type       0.00\n",
      "avg_glucose_level    0.00\n",
      "bmi                  3.93\n",
      "smoking_status       0.00\n",
      "stroke               0.00\n",
      "dtype: float64\n"
     ]
    }
   ],
   "source": [
    "# Calculate the missing values percentage for each column and round to two decimal places\n",
    "missing_values_percentage = (df.isnull().mean() * 100).round(2)\n",
    "\n",
    "# Display the missing values percentage for each column\n",
    "print(\"Missing Values Percentage:\\n\")\n",
    "print(missing_values_percentage)"
   ]
  },
  {
   "cell_type": "markdown",
   "id": "2f0c870a-4856-4bbc-9631-934c534c980d",
   "metadata": {},
   "source": [
    "<h5 style=\"color: blue;\">Observations:</h5>\r\n",
    "\n",
    "- The dataset is largely complete, with most columns showing **0% missing data**.\n",
    "- The **'bmi'** column is the only one with missing values, accounting for **3.93%** of the entries.\n",
    "- Key columns like **'id'**, **'gender'**, **'age'**, **'hypertension'**, **'heart_disease'**, **'ever_married'**,\n",
    "  **'work_type'**, **'Residence_type'**, **'avg_glucose_level'**, **'smoking_status'**, and **'stroke'** have **no missing data**.\n"
   ]
  },
  {
   "cell_type": "markdown",
   "id": "404f2fe7-7305-4b87-a365-ed64cc7d959d",
   "metadata": {},
   "source": [
    "<h3 style=\"text-decoration: underline;\">Handling null values</h3>\r\n",
    "\n"
   ]
  },
  {
   "cell_type": "code",
   "execution_count": 58,
   "id": "d95ba6db-62a8-4c64-86c0-f654cd5bbfae",
   "metadata": {},
   "outputs": [],
   "source": [
    "# Handling missing values for the 'bmi' column by assigning the result back\n",
    "df['bmi'] = df['bmi'].fillna(df['bmi'].median())"
   ]
  },
  {
   "cell_type": "code",
   "execution_count": 60,
   "id": "f03b9f8d-9ae6-4aae-aea6-d92525de32df",
   "metadata": {},
   "outputs": [
    {
     "data": {
      "text/plain": [
       "id                   0\n",
       "gender               0\n",
       "age                  0\n",
       "hypertension         0\n",
       "heart_disease        0\n",
       "ever_married         0\n",
       "work_type            0\n",
       "Residence_type       0\n",
       "avg_glucose_level    0\n",
       "bmi                  0\n",
       "smoking_status       0\n",
       "stroke               0\n",
       "dtype: int64"
      ]
     },
     "execution_count": 60,
     "metadata": {},
     "output_type": "execute_result"
    }
   ],
   "source": [
    "# Display the count of missing values for each column\n",
    "df.isnull().sum()"
   ]
  },
  {
   "cell_type": "markdown",
   "id": "dee13901-cc72-4aaf-9f04-81539f05e285",
   "metadata": {},
   "source": [
    "<h5 style=\"color: blue;\">Observations:</h5>\r\n",
    "\n",
    "- The dataset is complete with no missing values across all columns."
   ]
  }
 ],
 "metadata": {
  "kernelspec": {
   "display_name": "Python 3 (ipykernel)",
   "language": "python",
   "name": "python3"
  },
  "language_info": {
   "codemirror_mode": {
    "name": "ipython",
    "version": 3
   },
   "file_extension": ".py",
   "mimetype": "text/x-python",
   "name": "python",
   "nbconvert_exporter": "python",
   "pygments_lexer": "ipython3",
   "version": "3.12.4"
  }
 },
 "nbformat": 4,
 "nbformat_minor": 5
}
